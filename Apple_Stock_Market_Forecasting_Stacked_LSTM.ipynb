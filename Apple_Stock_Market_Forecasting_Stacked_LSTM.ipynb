{
 "cells": [
  {
   "cell_type": "code",
   "execution_count": 2,
   "id": "d651819e",
   "metadata": {},
   "outputs": [],
   "source": [
    "import pandas_datareader as pdr"
   ]
  },
  {
   "cell_type": "code",
   "execution_count": 3,
   "id": "418639c9",
   "metadata": {},
   "outputs": [],
   "source": [
    "key = 'a3b851af9076d9c276de85fb7b40c79199725391'"
   ]
  },
  {
   "cell_type": "code",
   "execution_count": 4,
   "id": "1c21c3cf",
   "metadata": {},
   "outputs": [],
   "source": [
    "df = pdr.get_data_tiingo('AAPL', api_key = key)"
   ]
  },
  {
   "cell_type": "code",
   "execution_count": 5,
   "id": "336e3768",
   "metadata": {},
   "outputs": [],
   "source": [
    "df.to_csv('AAPL.csv')"
   ]
  },
  {
   "cell_type": "code",
   "execution_count": 22,
   "id": "49dc3945",
   "metadata": {},
   "outputs": [],
   "source": [
    "import pandas as pd\n",
    "import numpy as np"
   ]
  },
  {
   "cell_type": "code",
   "execution_count": 8,
   "id": "70ec2a70",
   "metadata": {},
   "outputs": [],
   "source": [
    "df = pd.read_csv('AAPL.csv')"
   ]
  },
  {
   "cell_type": "code",
   "execution_count": 9,
   "id": "641d70fc",
   "metadata": {},
   "outputs": [
    {
     "data": {
      "text/html": [
       "<div>\n",
       "<style scoped>\n",
       "    .dataframe tbody tr th:only-of-type {\n",
       "        vertical-align: middle;\n",
       "    }\n",
       "\n",
       "    .dataframe tbody tr th {\n",
       "        vertical-align: top;\n",
       "    }\n",
       "\n",
       "    .dataframe thead th {\n",
       "        text-align: right;\n",
       "    }\n",
       "</style>\n",
       "<table border=\"1\" class=\"dataframe\">\n",
       "  <thead>\n",
       "    <tr style=\"text-align: right;\">\n",
       "      <th></th>\n",
       "      <th>symbol</th>\n",
       "      <th>date</th>\n",
       "      <th>close</th>\n",
       "      <th>high</th>\n",
       "      <th>low</th>\n",
       "      <th>open</th>\n",
       "      <th>volume</th>\n",
       "      <th>adjClose</th>\n",
       "      <th>adjHigh</th>\n",
       "      <th>adjLow</th>\n",
       "      <th>adjOpen</th>\n",
       "      <th>adjVolume</th>\n",
       "      <th>divCash</th>\n",
       "      <th>splitFactor</th>\n",
       "    </tr>\n",
       "  </thead>\n",
       "  <tbody>\n",
       "    <tr>\n",
       "      <th>0</th>\n",
       "      <td>AAPL</td>\n",
       "      <td>2016-09-08 00:00:00+00:00</td>\n",
       "      <td>105.52</td>\n",
       "      <td>107.27</td>\n",
       "      <td>105.24</td>\n",
       "      <td>107.25</td>\n",
       "      <td>53002026</td>\n",
       "      <td>24.735764</td>\n",
       "      <td>25.145995</td>\n",
       "      <td>24.670127</td>\n",
       "      <td>25.141307</td>\n",
       "      <td>212008104</td>\n",
       "      <td>0.0</td>\n",
       "      <td>1.0</td>\n",
       "    </tr>\n",
       "    <tr>\n",
       "      <th>1</th>\n",
       "      <td>AAPL</td>\n",
       "      <td>2016-09-09 00:00:00+00:00</td>\n",
       "      <td>103.13</td>\n",
       "      <td>105.72</td>\n",
       "      <td>103.13</td>\n",
       "      <td>104.64</td>\n",
       "      <td>46556984</td>\n",
       "      <td>24.175506</td>\n",
       "      <td>24.782648</td>\n",
       "      <td>24.175506</td>\n",
       "      <td>24.529477</td>\n",
       "      <td>186227936</td>\n",
       "      <td>0.0</td>\n",
       "      <td>1.0</td>\n",
       "    </tr>\n",
       "    <tr>\n",
       "      <th>2</th>\n",
       "      <td>AAPL</td>\n",
       "      <td>2016-09-12 00:00:00+00:00</td>\n",
       "      <td>105.44</td>\n",
       "      <td>105.72</td>\n",
       "      <td>102.53</td>\n",
       "      <td>102.65</td>\n",
       "      <td>45292770</td>\n",
       "      <td>24.717011</td>\n",
       "      <td>24.782648</td>\n",
       "      <td>24.034855</td>\n",
       "      <td>24.062985</td>\n",
       "      <td>181171080</td>\n",
       "      <td>0.0</td>\n",
       "      <td>1.0</td>\n",
       "    </tr>\n",
       "    <tr>\n",
       "      <th>3</th>\n",
       "      <td>AAPL</td>\n",
       "      <td>2016-09-13 00:00:00+00:00</td>\n",
       "      <td>107.95</td>\n",
       "      <td>108.79</td>\n",
       "      <td>107.24</td>\n",
       "      <td>107.51</td>\n",
       "      <td>62176190</td>\n",
       "      <td>25.305400</td>\n",
       "      <td>25.502310</td>\n",
       "      <td>25.138963</td>\n",
       "      <td>25.202256</td>\n",
       "      <td>248704760</td>\n",
       "      <td>0.0</td>\n",
       "      <td>1.0</td>\n",
       "    </tr>\n",
       "    <tr>\n",
       "      <th>4</th>\n",
       "      <td>AAPL</td>\n",
       "      <td>2016-09-14 00:00:00+00:00</td>\n",
       "      <td>111.77</td>\n",
       "      <td>113.03</td>\n",
       "      <td>108.60</td>\n",
       "      <td>108.73</td>\n",
       "      <td>112340318</td>\n",
       "      <td>26.200875</td>\n",
       "      <td>26.496242</td>\n",
       "      <td>25.457771</td>\n",
       "      <td>25.488245</td>\n",
       "      <td>449361272</td>\n",
       "      <td>0.0</td>\n",
       "      <td>1.0</td>\n",
       "    </tr>\n",
       "  </tbody>\n",
       "</table>\n",
       "</div>"
      ],
      "text/plain": [
       "  symbol                       date   close    high     low    open  \\\n",
       "0   AAPL  2016-09-08 00:00:00+00:00  105.52  107.27  105.24  107.25   \n",
       "1   AAPL  2016-09-09 00:00:00+00:00  103.13  105.72  103.13  104.64   \n",
       "2   AAPL  2016-09-12 00:00:00+00:00  105.44  105.72  102.53  102.65   \n",
       "3   AAPL  2016-09-13 00:00:00+00:00  107.95  108.79  107.24  107.51   \n",
       "4   AAPL  2016-09-14 00:00:00+00:00  111.77  113.03  108.60  108.73   \n",
       "\n",
       "      volume   adjClose    adjHigh     adjLow    adjOpen  adjVolume  divCash  \\\n",
       "0   53002026  24.735764  25.145995  24.670127  25.141307  212008104      0.0   \n",
       "1   46556984  24.175506  24.782648  24.175506  24.529477  186227936      0.0   \n",
       "2   45292770  24.717011  24.782648  24.034855  24.062985  181171080      0.0   \n",
       "3   62176190  25.305400  25.502310  25.138963  25.202256  248704760      0.0   \n",
       "4  112340318  26.200875  26.496242  25.457771  25.488245  449361272      0.0   \n",
       "\n",
       "   splitFactor  \n",
       "0          1.0  \n",
       "1          1.0  \n",
       "2          1.0  \n",
       "3          1.0  \n",
       "4          1.0  "
      ]
     },
     "execution_count": 9,
     "metadata": {},
     "output_type": "execute_result"
    }
   ],
   "source": [
    "df.head()"
   ]
  },
  {
   "cell_type": "code",
   "execution_count": 10,
   "id": "75ecd000",
   "metadata": {},
   "outputs": [
    {
     "data": {
      "text/plain": [
       "(1257, 14)"
      ]
     },
     "execution_count": 10,
     "metadata": {},
     "output_type": "execute_result"
    }
   ],
   "source": [
    "df.shape"
   ]
  },
  {
   "cell_type": "code",
   "execution_count": 11,
   "id": "7b7698ed",
   "metadata": {},
   "outputs": [
    {
     "data": {
      "text/plain": [
       "symbol         0\n",
       "date           0\n",
       "close          0\n",
       "high           0\n",
       "low            0\n",
       "open           0\n",
       "volume         0\n",
       "adjClose       0\n",
       "adjHigh        0\n",
       "adjLow         0\n",
       "adjOpen        0\n",
       "adjVolume      0\n",
       "divCash        0\n",
       "splitFactor    0\n",
       "dtype: int64"
      ]
     },
     "execution_count": 11,
     "metadata": {},
     "output_type": "execute_result"
    }
   ],
   "source": [
    "df.isnull().sum()"
   ]
  },
  {
   "cell_type": "code",
   "execution_count": 19,
   "id": "d0a06755",
   "metadata": {},
   "outputs": [],
   "source": [
    "new_df = df.reset_index()['close']"
   ]
  },
  {
   "cell_type": "code",
   "execution_count": 20,
   "id": "d638d7da",
   "metadata": {},
   "outputs": [
    {
     "data": {
      "text/plain": [
       "0       105.52\n",
       "1       103.13\n",
       "2       105.44\n",
       "3       107.95\n",
       "4       111.77\n",
       "         ...  \n",
       "1252    153.12\n",
       "1253    151.83\n",
       "1254    152.51\n",
       "1255    153.65\n",
       "1256    154.30\n",
       "Name: close, Length: 1257, dtype: float64"
      ]
     },
     "execution_count": 20,
     "metadata": {},
     "output_type": "execute_result"
    }
   ],
   "source": [
    "new_df"
   ]
  },
  {
   "cell_type": "code",
   "execution_count": 15,
   "id": "ce84a7a7",
   "metadata": {},
   "outputs": [],
   "source": [
    "import matplotlib.pyplot as plt"
   ]
  },
  {
   "cell_type": "code",
   "execution_count": 16,
   "id": "f37668b6",
   "metadata": {},
   "outputs": [
    {
     "data": {
      "text/plain": [
       "[<matplotlib.lines.Line2D at 0x225a2038f40>]"
      ]
     },
     "execution_count": 16,
     "metadata": {},
     "output_type": "execute_result"
    },
    {
     "data": {
      "image/png": "[encoded data removed]",
      "text/plain": [
       "<Figure size 432x288 with 1 Axes>"
      ]
     },
     "metadata": {
      "needs_background": "light"
     },
     "output_type": "display_data"
    }
   ],
   "source": [
    "plt.plot(new_df)"
   ]
  },
  {
   "cell_type": "code",
   "execution_count": 24,
   "id": "a7936aa7",
   "metadata": {},
   "outputs": [],
   "source": [
    "from sklearn.preprocessing import MinMaxScaler\n",
    "scale = MinMaxScaler(feature_range=(0,1))\n",
    "new_df = scale.fit_transform(np.array(new_df).reshape(-1,1))"
   ]
  },
  {
   "cell_type": "code",
   "execution_count": 25,
   "id": "c097b8d4",
   "metadata": {},
   "outputs": [
    {
     "data": {
      "text/plain": [
       "array([[0.00593111],\n",
       "       [0.        ],\n",
       "       [0.00573258],\n",
       "       ...,\n",
       "       [0.12254318],\n",
       "       [0.12537225],\n",
       "       [0.12698531]])"
      ]
     },
     "execution_count": 25,
     "metadata": {},
     "output_type": "execute_result"
    }
   ],
   "source": [
    "new_df"
   ]
  },
  {
   "cell_type": "code",
   "execution_count": 26,
   "id": "d4460b16",
   "metadata": {},
   "outputs": [],
   "source": [
    "train_size = int(len(new_df)*0.65)"
   ]
  },
  {
   "cell_type": "code",
   "execution_count": 27,
   "id": "05f3e43e",
   "metadata": {},
   "outputs": [
    {
     "data": {
      "text/plain": [
       "817"
      ]
     },
     "execution_count": 27,
     "metadata": {},
     "output_type": "execute_result"
    }
   ],
   "source": [
    "train_size"
   ]
  },
  {
   "cell_type": "code",
   "execution_count": 28,
   "id": "2633c717",
   "metadata": {},
   "outputs": [],
   "source": [
    "test_size = len(new_df)-train_size"
   ]
  },
  {
   "cell_type": "code",
   "execution_count": 29,
   "id": "b0cfa349",
   "metadata": {},
   "outputs": [
    {
     "data": {
      "text/plain": [
       "440"
      ]
     },
     "execution_count": 29,
     "metadata": {},
     "output_type": "execute_result"
    }
   ],
   "source": [
    "test_size"
   ]
  },
  {
   "cell_type": "code",
   "execution_count": 32,
   "id": "2cd811f9",
   "metadata": {},
   "outputs": [],
   "source": [
    "train_data,test_data = new_df[0:train_size,:],new_df[train_size:,:1]"
   ]
  },
  {
   "cell_type": "code",
   "execution_count": 33,
   "id": "2dca1d3c",
   "metadata": {},
   "outputs": [],
   "source": [
    "def create_dataset(dataset, time_step=1):\n",
    "    dataX, dataY = [], []\n",
    "    for i in range(len(dataset)-time_step-1):\n",
    "        a = dataset[i:(i+time_step), 0]   \n",
    "        dataX.append(a)\n",
    "        dataY.append(dataset[i + time_step, 0])\n",
    "    return np.array(dataX), np.array(dataY)"
   ]
  },
  {
   "cell_type": "code",
   "execution_count": 34,
   "id": "cd3b576f",
   "metadata": {},
   "outputs": [],
   "source": [
    "time_step = 100\n",
    "X_train, y_train = create_dataset(train_data, time_step)\n",
    "X_test, ytest = create_dataset(test_data, time_step)"
   ]
  },
  {
   "cell_type": "code",
   "execution_count": 35,
   "id": "519b4f3b",
   "metadata": {},
   "outputs": [],
   "source": [
    "# reshape input to be [samples, time steps, features] which is required for LSTM\n",
    "X_train =X_train.reshape(X_train.shape[0],X_train.shape[1] , 1)\n",
    "X_test = X_test.reshape(X_test.shape[0],X_test.shape[1] , 1)"
   ]
  },
  {
   "cell_type": "code",
   "execution_count": 37,
   "id": "39c8d467",
   "metadata": {},
   "outputs": [],
   "source": [
    "from tensorflow.keras.layers import Dense,Flatten,LSTM\n",
    "from tensorflow.keras.models import Model,Sequential"
   ]
  },
  {
   "cell_type": "code",
   "execution_count": 39,
   "id": "4ee11000",
   "metadata": {},
   "outputs": [],
   "source": [
    "model = Sequential()\n",
    "model.add(LSTM(50,return_sequences = True, input_shape = (100,1)))\n",
    "model.add(LSTM(50,return_sequences = True))\n",
    "model.add(LSTM(50))\n",
    "model.add(Dense(1))\n",
    "model.compile(loss='mean_squared_error',optimizer='adam')"
   ]
  },
  {
   "cell_type": "code",
   "execution_count": 40,
   "id": "fbaccdbd",
   "metadata": {},
   "outputs": [
    {
     "name": "stdout",
     "output_type": "stream",
     "text": [
      "Model: \"sequential_1\"\n",
      "_________________________________________________________________\n",
      "Layer (type)                 Output Shape              Param #   \n",
      "=================================================================\n",
      "lstm (LSTM)                  (None, 100, 50)           10400     \n",
      "_________________________________________________________________\n",
      "lstm_1 (LSTM)                (None, 100, 50)           20200     \n",
      "_________________________________________________________________\n",
      "lstm_2 (LSTM)                (None, 50)                20200     \n",
      "_________________________________________________________________\n",
      "dense (Dense)                (None, 1)                 51        \n",
      "=================================================================\n",
      "Total params: 50,851\n",
      "Trainable params: 50,851\n",
      "Non-trainable params: 0\n",
      "_________________________________________________________________\n"
     ]
    }
   ],
   "source": [
    "model.summary()"
   ]
  },
  {
   "cell_type": "code",
   "execution_count": 41,
   "id": "72851fa8",
   "metadata": {},
   "outputs": [
    {
     "name": "stdout",
     "output_type": "stream",
     "text": [
      "Epoch 1/100\n",
      "12/12 [==============================] - 19s 731ms/step - loss: 0.0119 - val_loss: 0.0387\n",
      "Epoch 2/100\n",
      "12/12 [==============================] - 7s 629ms/step - loss: 0.0026 - val_loss: 0.0275\n",
      "Epoch 3/100\n",
      "12/12 [==============================] - 7s 539ms/step - loss: 0.0014 - val_loss: 0.0231\n",
      "Epoch 4/100\n",
      "12/12 [==============================] - 5s 448ms/step - loss: 8.5306e-04 - val_loss: 0.0215\n",
      "Epoch 5/100\n",
      "12/12 [==============================] - 6s 496ms/step - loss: 5.6763e-04 - val_loss: 0.0238\n",
      "Epoch 6/100\n",
      "12/12 [==============================] - 5s 451ms/step - loss: 5.1683e-04 - val_loss: 0.0217\n",
      "Epoch 7/100\n",
      "12/12 [==============================] - 7s 555ms/step - loss: 4.8030e-04 - val_loss: 0.0208\n",
      "Epoch 8/100\n",
      "12/12 [==============================] - 7s 558ms/step - loss: 4.7143e-04 - val_loss: 0.0209\n",
      "Epoch 9/100\n",
      "12/12 [==============================] - 5s 448ms/step - loss: 4.5650e-04 - val_loss: 0.0205\n",
      "Epoch 10/100\n",
      "12/12 [==============================] - 6s 524ms/step - loss: 4.4232e-04 - val_loss: 0.0208\n",
      "Epoch 11/100\n",
      "12/12 [==============================] - 7s 546ms/step - loss: 4.0766e-04 - val_loss: 0.0223\n",
      "Epoch 12/100\n",
      "12/12 [==============================] - 6s 487ms/step - loss: 4.2209e-04 - val_loss: 0.0220\n",
      "Epoch 13/100\n",
      "12/12 [==============================] - 7s 559ms/step - loss: 3.8257e-04 - val_loss: 0.0190\n",
      "Epoch 14/100\n",
      "12/12 [==============================] - 5s 417ms/step - loss: 4.1505e-04 - val_loss: 0.0186\n",
      "Epoch 15/100\n",
      "12/12 [==============================] - 7s 585ms/step - loss: 3.6086e-04 - val_loss: 0.0204\n",
      "Epoch 16/100\n",
      "12/12 [==============================] - 7s 553ms/step - loss: 3.3220e-04 - val_loss: 0.0183\n",
      "Epoch 17/100\n",
      "12/12 [==============================] - 5s 412ms/step - loss: 3.4842e-04 - val_loss: 0.0183\n",
      "Epoch 18/100\n",
      "12/12 [==============================] - 6s 530ms/step - loss: 3.0277e-04 - val_loss: 0.0179\n",
      "Epoch 19/100\n",
      "12/12 [==============================] - 6s 515ms/step - loss: 3.2500e-04 - val_loss: 0.0182\n",
      "Epoch 20/100\n",
      "12/12 [==============================] - 6s 474ms/step - loss: 2.8401e-04 - val_loss: 0.0193\n",
      "Epoch 21/100\n",
      "12/12 [==============================] - 6s 498ms/step - loss: 2.7842e-04 - val_loss: 0.0174\n",
      "Epoch 22/100\n",
      "12/12 [==============================] - 5s 403ms/step - loss: 2.7696e-04 - val_loss: 0.0176\n",
      "Epoch 23/100\n",
      "12/12 [==============================] - 6s 516ms/step - loss: 2.7871e-04 - val_loss: 0.0173\n",
      "Epoch 24/100\n",
      "12/12 [==============================] - 5s 442ms/step - loss: 2.6010e-04 - val_loss: 0.0182\n",
      "Epoch 25/100\n",
      "12/12 [==============================] - 5s 376ms/step - loss: 2.9491e-04 - val_loss: 0.0152\n",
      "Epoch 26/100\n",
      "12/12 [==============================] - 5s 435ms/step - loss: 2.9966e-04 - val_loss: 0.0165\n",
      "Epoch 27/100\n",
      "12/12 [==============================] - 5s 440ms/step - loss: 3.0762e-04 - val_loss: 0.0172\n",
      "Epoch 28/100\n",
      "12/12 [==============================] - 6s 460ms/step - loss: 2.7505e-04 - val_loss: 0.0149\n",
      "Epoch 29/100\n",
      "12/12 [==============================] - 6s 511ms/step - loss: 2.4893e-04 - val_loss: 0.0160\n",
      "Epoch 30/100\n",
      "12/12 [==============================] - 6s 517ms/step - loss: 2.5215e-04 - val_loss: 0.0155\n",
      "Epoch 31/100\n",
      "12/12 [==============================] - 5s 427ms/step - loss: 2.6250e-04 - val_loss: 0.0144\n",
      "Epoch 32/100\n",
      "12/12 [==============================] - 6s 511ms/step - loss: 2.6795e-04 - val_loss: 0.0155\n",
      "Epoch 33/100\n",
      "12/12 [==============================] - 6s 528ms/step - loss: 2.5623e-04 - val_loss: 0.0144\n",
      "Epoch 34/100\n",
      "12/12 [==============================] - 5s 412ms/step - loss: 2.5195e-04 - val_loss: 0.0163\n",
      "Epoch 35/100\n",
      "12/12 [==============================] - 6s 513ms/step - loss: 2.4174e-04 - val_loss: 0.0140\n",
      "Epoch 36/100\n",
      "12/12 [==============================] - 5s 382ms/step - loss: 2.3382e-04 - val_loss: 0.0153\n",
      "Epoch 37/100\n",
      "12/12 [==============================] - 5s 378ms/step - loss: 2.4073e-04 - val_loss: 0.0136\n",
      "Epoch 38/100\n",
      "12/12 [==============================] - 6s 514ms/step - loss: 2.2126e-04 - val_loss: 0.0132\n",
      "Epoch 39/100\n",
      "12/12 [==============================] - 7s 584ms/step - loss: 2.3421e-04 - val_loss: 0.0126\n",
      "Epoch 40/100\n",
      "12/12 [==============================] - 5s 447ms/step - loss: 2.3628e-04 - val_loss: 0.0137\n",
      "Epoch 41/100\n",
      "12/12 [==============================] - 7s 574ms/step - loss: 2.2235e-04 - val_loss: 0.0129\n",
      "Epoch 42/100\n",
      "12/12 [==============================] - 5s 403ms/step - loss: 2.2023e-04 - val_loss: 0.0132\n",
      "Epoch 43/100\n",
      "12/12 [==============================] - 5s 434ms/step - loss: 2.2863e-04 - val_loss: 0.0126\n",
      "Epoch 44/100\n",
      "12/12 [==============================] - 6s 511ms/step - loss: 2.2048e-04 - val_loss: 0.0132\n",
      "Epoch 45/100\n",
      "12/12 [==============================] - 5s 433ms/step - loss: 2.3106e-04 - val_loss: 0.0127\n",
      "Epoch 46/100\n",
      "12/12 [==============================] - 6s 493ms/step - loss: 2.0461e-04 - val_loss: 0.0135\n",
      "Epoch 47/100\n",
      "12/12 [==============================] - 6s 481ms/step - loss: 2.0596e-04 - val_loss: 0.0127\n",
      "Epoch 48/100\n",
      "12/12 [==============================] - 5s 375ms/step - loss: 2.0486e-04 - val_loss: 0.0139\n",
      "Epoch 49/100\n",
      "12/12 [==============================] - 7s 562ms/step - loss: 2.1754e-04 - val_loss: 0.0129\n",
      "Epoch 50/100\n",
      "12/12 [==============================] - 5s 454ms/step - loss: 1.9624e-04 - val_loss: 0.0134\n",
      "Epoch 51/100\n",
      "12/12 [==============================] - 5s 418ms/step - loss: 1.9821e-04 - val_loss: 0.0130\n",
      "Epoch 52/100\n",
      "12/12 [==============================] - 5s 444ms/step - loss: 2.1461e-04 - val_loss: 0.0135\n",
      "Epoch 53/100\n",
      "12/12 [==============================] - 5s 454ms/step - loss: 2.0365e-04 - val_loss: 0.0133\n",
      "Epoch 54/100\n",
      "12/12 [==============================] - 5s 394ms/step - loss: 2.2566e-04 - val_loss: 0.0119\n",
      "Epoch 55/100\n",
      "12/12 [==============================] - 5s 448ms/step - loss: 2.0382e-04 - val_loss: 0.0128\n",
      "Epoch 56/100\n",
      "12/12 [==============================] - 6s 523ms/step - loss: 1.9840e-04 - val_loss: 0.0137\n",
      "Epoch 57/100\n",
      "12/12 [==============================] - 4s 358ms/step - loss: 1.9051e-04 - val_loss: 0.0127\n",
      "Epoch 58/100\n",
      "12/12 [==============================] - 6s 526ms/step - loss: 1.9697e-04 - val_loss: 0.0138\n",
      "Epoch 59/100\n",
      "12/12 [==============================] - 7s 549ms/step - loss: 2.1542e-04 - val_loss: 0.0130\n",
      "Epoch 60/100\n",
      "12/12 [==============================] - 5s 390ms/step - loss: 1.8004e-04 - val_loss: 0.0129\n",
      "Epoch 61/100\n",
      "12/12 [==============================] - 7s 547ms/step - loss: 1.8366e-04 - val_loss: 0.0156\n",
      "Epoch 62/100\n",
      "12/12 [==============================] - 6s 495ms/step - loss: 2.3862e-04 - val_loss: 0.0119\n",
      "Epoch 63/100\n",
      "12/12 [==============================] - 6s 509ms/step - loss: 2.1886e-04 - val_loss: 0.0120\n",
      "Epoch 64/100\n",
      "12/12 [==============================] - 6s 469ms/step - loss: 1.7947e-04 - val_loss: 0.0128\n",
      "Epoch 65/100\n",
      "12/12 [==============================] - 5s 410ms/step - loss: 1.7353e-04 - val_loss: 0.0119\n",
      "Epoch 66/100\n",
      "12/12 [==============================] - 7s 569ms/step - loss: 1.7330e-04 - val_loss: 0.0141\n",
      "Epoch 67/100\n",
      "12/12 [==============================] - 6s 510ms/step - loss: 2.0434e-04 - val_loss: 0.0120\n",
      "Epoch 68/100\n",
      "12/12 [==============================] - 4s 359ms/step - loss: 1.9611e-04 - val_loss: 0.0132\n",
      "Epoch 69/100\n",
      "12/12 [==============================] - 7s 547ms/step - loss: 1.8161e-04 - val_loss: 0.0127\n",
      "Epoch 70/100\n",
      "12/12 [==============================] - 6s 492ms/step - loss: 1.8040e-04 - val_loss: 0.0111\n",
      "Epoch 71/100\n",
      "12/12 [==============================] - 4s 353ms/step - loss: 1.7453e-04 - val_loss: 0.0123\n",
      "Epoch 72/100\n",
      "12/12 [==============================] - 7s 576ms/step - loss: 1.5825e-04 - val_loss: 0.0120\n",
      "Epoch 73/100\n",
      "12/12 [==============================] - 7s 562ms/step - loss: 1.7006e-04 - val_loss: 0.0129\n",
      "Epoch 74/100\n",
      "12/12 [==============================] - 5s 456ms/step - loss: 1.7324e-04 - val_loss: 0.0141-0\n",
      "Epoch 75/100\n",
      "12/12 [==============================] - 7s 577ms/step - loss: 1.9924e-04 - val_loss: 0.0112\n",
      "Epoch 76/100\n",
      "12/12 [==============================] - 5s 419ms/step - loss: 1.9942e-04 - val_loss: 0.0109\n",
      "Epoch 77/100\n",
      "12/12 [==============================] - 7s 575ms/step - loss: 1.5541e-04 - val_loss: 0.0117\n",
      "Epoch 78/100\n"
     ]
    },
    {
     "name": "stdout",
     "output_type": "stream",
     "text": [
      "12/12 [==============================] - 7s 575ms/step - loss: 1.5650e-04 - val_loss: 0.0108\n",
      "Epoch 79/100\n",
      "12/12 [==============================] - 5s 455ms/step - loss: 1.5333e-04 - val_loss: 0.0122\n",
      "Epoch 80/100\n",
      "12/12 [==============================] - 7s 546ms/step - loss: 1.6635e-04 - val_loss: 0.0109\n",
      "Epoch 81/100\n",
      "12/12 [==============================] - 6s 515ms/step - loss: 1.6573e-04 - val_loss: 0.0120\n",
      "Epoch 82/100\n",
      "12/12 [==============================] - 6s 527ms/step - loss: 1.5412e-04 - val_loss: 0.0108\n",
      "Epoch 83/100\n",
      "12/12 [==============================] - 7s 565ms/step - loss: 1.4647e-04 - val_loss: 0.0100\n",
      "Epoch 84/100\n",
      "12/12 [==============================] - 5s 423ms/step - loss: 1.9781e-04 - val_loss: 0.0156\n",
      "Epoch 85/100\n",
      "12/12 [==============================] - 6s 542ms/step - loss: 1.9976e-04 - val_loss: 0.0094\n",
      "Epoch 86/100\n",
      "12/12 [==============================] - 7s 564ms/step - loss: 1.9724e-04 - val_loss: 0.0099\n",
      "Epoch 87/100\n",
      "12/12 [==============================] - 5s 469ms/step - loss: 1.8113e-04 - val_loss: 0.0120\n",
      "Epoch 88/100\n",
      "12/12 [==============================] - 6s 497ms/step - loss: 1.4470e-04 - val_loss: 0.0114\n",
      "Epoch 89/100\n",
      "12/12 [==============================] - 6s 477ms/step - loss: 1.3445e-04 - val_loss: 0.0116\n",
      "Epoch 90/100\n",
      "12/12 [==============================] - 7s 580ms/step - loss: 1.3815e-04 - val_loss: 0.0105\n",
      "Epoch 91/100\n",
      "12/12 [==============================] - 6s 542ms/step - loss: 1.3777e-04 - val_loss: 0.0111\n",
      "Epoch 92/100\n",
      "12/12 [==============================] - 5s 450ms/step - loss: 1.5064e-04 - val_loss: 0.0095\n",
      "Epoch 93/100\n",
      "12/12 [==============================] - 7s 552ms/step - loss: 1.3497e-04 - val_loss: 0.0105\n",
      "Epoch 94/100\n",
      "12/12 [==============================] - 6s 514ms/step - loss: 1.3063e-04 - val_loss: 0.0100\n",
      "Epoch 95/100\n",
      "12/12 [==============================] - 5s 426ms/step - loss: 1.2976e-04 - val_loss: 0.0104\n",
      "Epoch 96/100\n",
      "12/12 [==============================] - 7s 569ms/step - loss: 1.3868e-04 - val_loss: 0.0104\n",
      "Epoch 97/100\n",
      "12/12 [==============================] - 6s 489ms/step - loss: 1.3494e-04 - val_loss: 0.0087\n",
      "Epoch 98/100\n",
      "12/12 [==============================] - 7s 577ms/step - loss: 1.3690e-04 - val_loss: 0.0124\n",
      "Epoch 99/100\n",
      "12/12 [==============================] - 6s 519ms/step - loss: 1.3237e-04 - val_loss: 0.0083\n",
      "Epoch 100/100\n",
      "12/12 [==============================] - 5s 422ms/step - loss: 1.5567e-04 - val_loss: 0.0095\n"
     ]
    },
    {
     "data": {
      "text/plain": [
       "<tensorflow.python.keras.callbacks.History at 0x225ae3b64f0>"
      ]
     },
     "execution_count": 41,
     "metadata": {},
     "output_type": "execute_result"
    }
   ],
   "source": [
    "model.fit(X_train,y_train,validation_data=(X_test,ytest), epochs=100, batch_size = 64, verbose = 1)"
   ]
  },
  {
   "cell_type": "code",
   "execution_count": 42,
   "id": "a35c3a09",
   "metadata": {},
   "outputs": [],
   "source": [
    "train_predict=model.predict(X_train)\n",
    "test_predict=model.predict(X_test)"
   ]
  },
  {
   "cell_type": "code",
   "execution_count": 43,
   "id": "9afb5a58",
   "metadata": {},
   "outputs": [],
   "source": [
    "train_predict=scale.inverse_transform(train_predict)\n",
    "test_predict=scale.inverse_transform(test_predict)"
   ]
  },
  {
   "cell_type": "code",
   "execution_count": 44,
   "id": "9c709f36",
   "metadata": {},
   "outputs": [
    {
     "data": {
      "text/plain": [
       "185.264650597884"
      ]
     },
     "execution_count": 44,
     "metadata": {},
     "output_type": "execute_result"
    }
   ],
   "source": [
    "import math\n",
    "from sklearn.metrics import mean_squared_error\n",
    "math.sqrt(mean_squared_error(y_train,train_predict))"
   ]
  },
  {
   "cell_type": "code",
   "execution_count": 45,
   "id": "596555c7",
   "metadata": {},
   "outputs": [
    {
     "data": {
      "text/plain": [
       "229.08299567066132"
      ]
     },
     "execution_count": 45,
     "metadata": {},
     "output_type": "execute_result"
    }
   ],
   "source": [
    "math.sqrt(mean_squared_error(ytest,test_predict))"
   ]
  },
  {
   "cell_type": "code",
   "execution_count": 46,
   "id": "196b7e74",
   "metadata": {},
   "outputs": [
    {
     "data": {
      "text/plain": [
       "(1, 99)"
      ]
     },
     "execution_count": 46,
     "metadata": {},
     "output_type": "execute_result"
    }
   ],
   "source": [
    "x_input=test_data[341:].reshape(1,-1)\n",
    "x_input.shape"
   ]
  },
  {
   "cell_type": "code",
   "execution_count": 47,
   "id": "e9804796",
   "metadata": {},
   "outputs": [],
   "source": [
    "temp_input=list(x_input)\n",
    "temp_input=temp_input[0].tolist()"
   ]
  },
  {
   "cell_type": "code",
   "execution_count": 50,
   "id": "cac36d11",
   "metadata": {},
   "outputs": [
    {
     "name": "stdout",
     "output_type": "stream",
     "text": [
      "0 day input [0.07869267 0.07439944 0.07536728 0.07149593 0.07740222 0.07839488\n",
      " 0.07757594 0.07556581 0.07531765 0.07030474 0.07298491 0.06134604\n",
      " 0.06196645 0.06603633 0.0672027  0.0588644  0.05653167 0.04873933\n",
      " 0.05419893 0.06035338 0.05742505 0.05390113 0.05350407 0.06000596\n",
      " 0.05534048 0.05948481 0.05898849 0.0588644  0.05496824 0.05330554\n",
      " 0.0524866  0.05442228 0.05065019 0.05648203 0.05650685 0.05859142\n",
      " 0.05955926 0.05702799 0.06010522 0.06787274 0.06578817 0.0670538\n",
      " 0.07112368 0.06782311 0.07238932 0.07655847 0.07586361 0.07514393\n",
      " 0.07439944 0.07854378 0.08239031 0.08395374 0.08472305 0.09139865\n",
      " 0.09651082 0.10283899 0.09953842 0.10417907 0.10266528 0.10549434\n",
      " 0.11420488 0.11254219 0.10735557 0.09757792 0.10675998 0.10489875\n",
      " 0.10837304 0.11274072 0.11380782 0.10829859 0.10385646 0.10549434\n",
      " 0.1060403  0.10519655 0.10976276 0.10874528 0.10901826 0.10673516\n",
      " 0.10661108 0.10539508 0.1060403  0.11355966 0.1140808  0.11909371\n",
      " 0.11678579 0.10728112 0.10812488 0.11182251 0.1155946  0.11537125\n",
      " 0.11224439 0.11020945 0.11283998 0.12405698 0.12085567 0.12254318\n",
      " 0.12537225 0.12698531 0.1246197  0.1246197 ]\n",
      "0 day output [[0.12779522]]\n",
      "1 day input [0.07439944 0.07536728 0.07149593 0.07740222 0.07839488 0.07757594\n",
      " 0.07556581 0.07531765 0.07030474 0.07298491 0.06134604 0.06196645\n",
      " 0.06603633 0.0672027  0.0588644  0.05653167 0.04873933 0.05419893\n",
      " 0.06035338 0.05742505 0.05390113 0.05350407 0.06000596 0.05534048\n",
      " 0.05948481 0.05898849 0.0588644  0.05496824 0.05330554 0.0524866\n",
      " 0.05442228 0.05065019 0.05648203 0.05650685 0.05859142 0.05955926\n",
      " 0.05702799 0.06010522 0.06787274 0.06578817 0.0670538  0.07112368\n",
      " 0.06782311 0.07238932 0.07655847 0.07586361 0.07514393 0.07439944\n",
      " 0.07854378 0.08239031 0.08395374 0.08472305 0.09139865 0.09651082\n",
      " 0.10283899 0.09953842 0.10417907 0.10266528 0.10549434 0.11420488\n",
      " 0.11254219 0.10735557 0.09757792 0.10675998 0.10489875 0.10837304\n",
      " 0.11274072 0.11380782 0.10829859 0.10385646 0.10549434 0.1060403\n",
      " 0.10519655 0.10976276 0.10874528 0.10901826 0.10673516 0.10661108\n",
      " 0.10539508 0.1060403  0.11355966 0.1140808  0.11909371 0.11678579\n",
      " 0.10728112 0.10812488 0.11182251 0.1155946  0.11537125 0.11224439\n",
      " 0.11020945 0.11283998 0.12405698 0.12085567 0.12254318 0.12537225\n",
      " 0.12698531 0.1246197  0.1246197  0.12779522]\n",
      "1 day output [[0.12877285]]\n",
      "2 day input [0.07536728 0.07149593 0.07740222 0.07839488 0.07757594 0.07556581\n",
      " 0.07531765 0.07030474 0.07298491 0.06134604 0.06196645 0.06603633\n",
      " 0.0672027  0.0588644  0.05653167 0.04873933 0.05419893 0.06035338\n",
      " 0.05742505 0.05390113 0.05350407 0.06000596 0.05534048 0.05948481\n",
      " 0.05898849 0.0588644  0.05496824 0.05330554 0.0524866  0.05442228\n",
      " 0.05065019 0.05648203 0.05650685 0.05859142 0.05955926 0.05702799\n",
      " 0.06010522 0.06787274 0.06578817 0.0670538  0.07112368 0.06782311\n",
      " 0.07238932 0.07655847 0.07586361 0.07514393 0.07439944 0.07854378\n",
      " 0.08239031 0.08395374 0.08472305 0.09139865 0.09651082 0.10283899\n",
      " 0.09953842 0.10417907 0.10266528 0.10549434 0.11420488 0.11254219\n",
      " 0.10735557 0.09757792 0.10675998 0.10489875 0.10837304 0.11274072\n",
      " 0.11380782 0.10829859 0.10385646 0.10549434 0.1060403  0.10519655\n",
      " 0.10976276 0.10874528 0.10901826 0.10673516 0.10661108 0.10539508\n",
      " 0.1060403  0.11355966 0.1140808  0.11909371 0.11678579 0.10728112\n",
      " 0.10812488 0.11182251 0.1155946  0.11537125 0.11224439 0.11020945\n",
      " 0.11283998 0.12405698 0.12085567 0.12254318 0.12537225 0.12698531\n",
      " 0.1246197  0.1246197  0.12779522 0.12877285]\n",
      "2 day output [[0.12958299]]\n",
      "3 day input [0.07149593 0.07740222 0.07839488 0.07757594 0.07556581 0.07531765\n",
      " 0.07030474 0.07298491 0.06134604 0.06196645 0.06603633 0.0672027\n",
      " 0.0588644  0.05653167 0.04873933 0.05419893 0.06035338 0.05742505\n",
      " 0.05390113 0.05350407 0.06000596 0.05534048 0.05948481 0.05898849\n",
      " 0.0588644  0.05496824 0.05330554 0.0524866  0.05442228 0.05065019\n",
      " 0.05648203 0.05650685 0.05859142 0.05955926 0.05702799 0.06010522\n",
      " 0.06787274 0.06578817 0.0670538  0.07112368 0.06782311 0.07238932\n",
      " 0.07655847 0.07586361 0.07514393 0.07439944 0.07854378 0.08239031\n",
      " 0.08395374 0.08472305 0.09139865 0.09651082 0.10283899 0.09953842\n",
      " 0.10417907 0.10266528 0.10549434 0.11420488 0.11254219 0.10735557\n",
      " 0.09757792 0.10675998 0.10489875 0.10837304 0.11274072 0.11380782\n",
      " 0.10829859 0.10385646 0.10549434 0.1060403  0.10519655 0.10976276\n",
      " 0.10874528 0.10901826 0.10673516 0.10661108 0.10539508 0.1060403\n",
      " 0.11355966 0.1140808  0.11909371 0.11678579 0.10728112 0.10812488\n",
      " 0.11182251 0.1155946  0.11537125 0.11224439 0.11020945 0.11283998\n",
      " 0.12405698 0.12085567 0.12254318 0.12537225 0.12698531 0.1246197\n",
      " 0.1246197  0.12779522 0.12877285 0.12958299]\n",
      "3 day output [[0.13032292]]\n",
      "4 day input [0.07740222 0.07839488 0.07757594 0.07556581 0.07531765 0.07030474\n",
      " 0.07298491 0.06134604 0.06196645 0.06603633 0.0672027  0.0588644\n",
      " 0.05653167 0.04873933 0.05419893 0.06035338 0.05742505 0.05390113\n",
      " 0.05350407 0.06000596 0.05534048 0.05948481 0.05898849 0.0588644\n",
      " 0.05496824 0.05330554 0.0524866  0.05442228 0.05065019 0.05648203\n",
      " 0.05650685 0.05859142 0.05955926 0.05702799 0.06010522 0.06787274\n",
      " 0.06578817 0.0670538  0.07112368 0.06782311 0.07238932 0.07655847\n",
      " 0.07586361 0.07514393 0.07439944 0.07854378 0.08239031 0.08395374\n",
      " 0.08472305 0.09139865 0.09651082 0.10283899 0.09953842 0.10417907\n",
      " 0.10266528 0.10549434 0.11420488 0.11254219 0.10735557 0.09757792\n",
      " 0.10675998 0.10489875 0.10837304 0.11274072 0.11380782 0.10829859\n",
      " 0.10385646 0.10549434 0.1060403  0.10519655 0.10976276 0.10874528\n",
      " 0.10901826 0.10673516 0.10661108 0.10539508 0.1060403  0.11355966\n",
      " 0.1140808  0.11909371 0.11678579 0.10728112 0.10812488 0.11182251\n",
      " 0.1155946  0.11537125 0.11224439 0.11020945 0.11283998 0.12405698\n",
      " 0.12085567 0.12254318 0.12537225 0.12698531 0.1246197  0.1246197\n",
      " 0.12779522 0.12877285 0.12958299 0.13032292]\n",
      "4 day output [[0.13104138]]\n",
      "5 day input [0.07839488 0.07757594 0.07556581 0.07531765 0.07030474 0.07298491\n",
      " 0.06134604 0.06196645 0.06603633 0.0672027  0.0588644  0.05653167\n",
      " 0.04873933 0.05419893 0.06035338 0.05742505 0.05390113 0.05350407\n",
      " 0.06000596 0.05534048 0.05948481 0.05898849 0.0588644  0.05496824\n",
      " 0.05330554 0.0524866  0.05442228 0.05065019 0.05648203 0.05650685\n",
      " 0.05859142 0.05955926 0.05702799 0.06010522 0.06787274 0.06578817\n",
      " 0.0670538  0.07112368 0.06782311 0.07238932 0.07655847 0.07586361\n",
      " 0.07514393 0.07439944 0.07854378 0.08239031 0.08395374 0.08472305\n",
      " 0.09139865 0.09651082 0.10283899 0.09953842 0.10417907 0.10266528\n",
      " 0.10549434 0.11420488 0.11254219 0.10735557 0.09757792 0.10675998\n",
      " 0.10489875 0.10837304 0.11274072 0.11380782 0.10829859 0.10385646\n",
      " 0.10549434 0.1060403  0.10519655 0.10976276 0.10874528 0.10901826\n",
      " 0.10673516 0.10661108 0.10539508 0.1060403  0.11355966 0.1140808\n",
      " 0.11909371 0.11678579 0.10728112 0.10812488 0.11182251 0.1155946\n",
      " 0.11537125 0.11224439 0.11020945 0.11283998 0.12405698 0.12085567\n",
      " 0.12254318 0.12537225 0.12698531 0.1246197  0.1246197  0.12779522\n",
      " 0.12877285 0.12958299 0.13032292 0.13104138]\n",
      "5 day output [[0.13175845]]\n",
      "6 day input [0.07757594 0.07556581 0.07531765 0.07030474 0.07298491 0.06134604\n",
      " 0.06196645 0.06603633 0.0672027  0.0588644  0.05653167 0.04873933\n",
      " 0.05419893 0.06035338 0.05742505 0.05390113 0.05350407 0.06000596\n",
      " 0.05534048 0.05948481 0.05898849 0.0588644  0.05496824 0.05330554\n",
      " 0.0524866  0.05442228 0.05065019 0.05648203 0.05650685 0.05859142\n",
      " 0.05955926 0.05702799 0.06010522 0.06787274 0.06578817 0.0670538\n",
      " 0.07112368 0.06782311 0.07238932 0.07655847 0.07586361 0.07514393\n",
      " 0.07439944 0.07854378 0.08239031 0.08395374 0.08472305 0.09139865\n",
      " 0.09651082 0.10283899 0.09953842 0.10417907 0.10266528 0.10549434\n",
      " 0.11420488 0.11254219 0.10735557 0.09757792 0.10675998 0.10489875\n",
      " 0.10837304 0.11274072 0.11380782 0.10829859 0.10385646 0.10549434\n",
      " 0.1060403  0.10519655 0.10976276 0.10874528 0.10901826 0.10673516\n",
      " 0.10661108 0.10539508 0.1060403  0.11355966 0.1140808  0.11909371\n",
      " 0.11678579 0.10728112 0.10812488 0.11182251 0.1155946  0.11537125\n",
      " 0.11224439 0.11020945 0.11283998 0.12405698 0.12085567 0.12254318\n",
      " 0.12537225 0.12698531 0.1246197  0.1246197  0.12779522 0.12877285\n",
      " 0.12958299 0.13032292 0.13104138 0.13175845]\n",
      "6 day output [[0.13248098]]\n",
      "7 day input [0.07556581 0.07531765 0.07030474 0.07298491 0.06134604 0.06196645\n",
      " 0.06603633 0.0672027  0.0588644  0.05653167 0.04873933 0.05419893\n",
      " 0.06035338 0.05742505 0.05390113 0.05350407 0.06000596 0.05534048\n",
      " 0.05948481 0.05898849 0.0588644  0.05496824 0.05330554 0.0524866\n",
      " 0.05442228 0.05065019 0.05648203 0.05650685 0.05859142 0.05955926\n",
      " 0.05702799 0.06010522 0.06787274 0.06578817 0.0670538  0.07112368\n",
      " 0.06782311 0.07238932 0.07655847 0.07586361 0.07514393 0.07439944\n",
      " 0.07854378 0.08239031 0.08395374 0.08472305 0.09139865 0.09651082\n",
      " 0.10283899 0.09953842 0.10417907 0.10266528 0.10549434 0.11420488\n",
      " 0.11254219 0.10735557 0.09757792 0.10675998 0.10489875 0.10837304\n",
      " 0.11274072 0.11380782 0.10829859 0.10385646 0.10549434 0.1060403\n",
      " 0.10519655 0.10976276 0.10874528 0.10901826 0.10673516 0.10661108\n",
      " 0.10539508 0.1060403  0.11355966 0.1140808  0.11909371 0.11678579\n",
      " 0.10728112 0.10812488 0.11182251 0.1155946  0.11537125 0.11224439\n",
      " 0.11020945 0.11283998 0.12405698 0.12085567 0.12254318 0.12537225\n",
      " 0.12698531 0.1246197  0.1246197  0.12779522 0.12877285 0.12958299\n",
      " 0.13032292 0.13104138 0.13175845 0.13248098]\n"
     ]
    },
    {
     "name": "stdout",
     "output_type": "stream",
     "text": [
      "7 day output [[0.13321118]]\n",
      "8 day input [0.07531765 0.07030474 0.07298491 0.06134604 0.06196645 0.06603633\n",
      " 0.0672027  0.0588644  0.05653167 0.04873933 0.05419893 0.06035338\n",
      " 0.05742505 0.05390113 0.05350407 0.06000596 0.05534048 0.05948481\n",
      " 0.05898849 0.0588644  0.05496824 0.05330554 0.0524866  0.05442228\n",
      " 0.05065019 0.05648203 0.05650685 0.05859142 0.05955926 0.05702799\n",
      " 0.06010522 0.06787274 0.06578817 0.0670538  0.07112368 0.06782311\n",
      " 0.07238932 0.07655847 0.07586361 0.07514393 0.07439944 0.07854378\n",
      " 0.08239031 0.08395374 0.08472305 0.09139865 0.09651082 0.10283899\n",
      " 0.09953842 0.10417907 0.10266528 0.10549434 0.11420488 0.11254219\n",
      " 0.10735557 0.09757792 0.10675998 0.10489875 0.10837304 0.11274072\n",
      " 0.11380782 0.10829859 0.10385646 0.10549434 0.1060403  0.10519655\n",
      " 0.10976276 0.10874528 0.10901826 0.10673516 0.10661108 0.10539508\n",
      " 0.1060403  0.11355966 0.1140808  0.11909371 0.11678579 0.10728112\n",
      " 0.10812488 0.11182251 0.1155946  0.11537125 0.11224439 0.11020945\n",
      " 0.11283998 0.12405698 0.12085567 0.12254318 0.12537225 0.12698531\n",
      " 0.1246197  0.1246197  0.12779522 0.12877285 0.12958299 0.13032292\n",
      " 0.13104138 0.13175845 0.13248098 0.13321118]\n",
      "8 day output [[0.13395017]]\n",
      "9 day input [0.07030474 0.07298491 0.06134604 0.06196645 0.06603633 0.0672027\n",
      " 0.0588644  0.05653167 0.04873933 0.05419893 0.06035338 0.05742505\n",
      " 0.05390113 0.05350407 0.06000596 0.05534048 0.05948481 0.05898849\n",
      " 0.0588644  0.05496824 0.05330554 0.0524866  0.05442228 0.05065019\n",
      " 0.05648203 0.05650685 0.05859142 0.05955926 0.05702799 0.06010522\n",
      " 0.06787274 0.06578817 0.0670538  0.07112368 0.06782311 0.07238932\n",
      " 0.07655847 0.07586361 0.07514393 0.07439944 0.07854378 0.08239031\n",
      " 0.08395374 0.08472305 0.09139865 0.09651082 0.10283899 0.09953842\n",
      " 0.10417907 0.10266528 0.10549434 0.11420488 0.11254219 0.10735557\n",
      " 0.09757792 0.10675998 0.10489875 0.10837304 0.11274072 0.11380782\n",
      " 0.10829859 0.10385646 0.10549434 0.1060403  0.10519655 0.10976276\n",
      " 0.10874528 0.10901826 0.10673516 0.10661108 0.10539508 0.1060403\n",
      " 0.11355966 0.1140808  0.11909371 0.11678579 0.10728112 0.10812488\n",
      " 0.11182251 0.1155946  0.11537125 0.11224439 0.11020945 0.11283998\n",
      " 0.12405698 0.12085567 0.12254318 0.12537225 0.12698531 0.1246197\n",
      " 0.1246197  0.12779522 0.12877285 0.12958299 0.13032292 0.13104138\n",
      " 0.13175845 0.13248098 0.13321118 0.13395017]\n",
      "9 day output [[0.13469943]]\n",
      "10 day input [0.07298491 0.06134604 0.06196645 0.06603633 0.0672027  0.0588644\n",
      " 0.05653167 0.04873933 0.05419893 0.06035338 0.05742505 0.05390113\n",
      " 0.05350407 0.06000596 0.05534048 0.05948481 0.05898849 0.0588644\n",
      " 0.05496824 0.05330554 0.0524866  0.05442228 0.05065019 0.05648203\n",
      " 0.05650685 0.05859142 0.05955926 0.05702799 0.06010522 0.06787274\n",
      " 0.06578817 0.0670538  0.07112368 0.06782311 0.07238932 0.07655847\n",
      " 0.07586361 0.07514393 0.07439944 0.07854378 0.08239031 0.08395374\n",
      " 0.08472305 0.09139865 0.09651082 0.10283899 0.09953842 0.10417907\n",
      " 0.10266528 0.10549434 0.11420488 0.11254219 0.10735557 0.09757792\n",
      " 0.10675998 0.10489875 0.10837304 0.11274072 0.11380782 0.10829859\n",
      " 0.10385646 0.10549434 0.1060403  0.10519655 0.10976276 0.10874528\n",
      " 0.10901826 0.10673516 0.10661108 0.10539508 0.1060403  0.11355966\n",
      " 0.1140808  0.11909371 0.11678579 0.10728112 0.10812488 0.11182251\n",
      " 0.1155946  0.11537125 0.11224439 0.11020945 0.11283998 0.12405698\n",
      " 0.12085567 0.12254318 0.12537225 0.12698531 0.1246197  0.1246197\n",
      " 0.12779522 0.12877285 0.12958299 0.13032292 0.13104138 0.13175845\n",
      " 0.13248098 0.13321118 0.13395017 0.13469943]\n",
      "10 day output [[0.13546032]]\n",
      "11 day input [0.06134604 0.06196645 0.06603633 0.0672027  0.0588644  0.05653167\n",
      " 0.04873933 0.05419893 0.06035338 0.05742505 0.05390113 0.05350407\n",
      " 0.06000596 0.05534048 0.05948481 0.05898849 0.0588644  0.05496824\n",
      " 0.05330554 0.0524866  0.05442228 0.05065019 0.05648203 0.05650685\n",
      " 0.05859142 0.05955926 0.05702799 0.06010522 0.06787274 0.06578817\n",
      " 0.0670538  0.07112368 0.06782311 0.07238932 0.07655847 0.07586361\n",
      " 0.07514393 0.07439944 0.07854378 0.08239031 0.08395374 0.08472305\n",
      " 0.09139865 0.09651082 0.10283899 0.09953842 0.10417907 0.10266528\n",
      " 0.10549434 0.11420488 0.11254219 0.10735557 0.09757792 0.10675998\n",
      " 0.10489875 0.10837304 0.11274072 0.11380782 0.10829859 0.10385646\n",
      " 0.10549434 0.1060403  0.10519655 0.10976276 0.10874528 0.10901826\n",
      " 0.10673516 0.10661108 0.10539508 0.1060403  0.11355966 0.1140808\n",
      " 0.11909371 0.11678579 0.10728112 0.10812488 0.11182251 0.1155946\n",
      " 0.11537125 0.11224439 0.11020945 0.11283998 0.12405698 0.12085567\n",
      " 0.12254318 0.12537225 0.12698531 0.1246197  0.1246197  0.12779522\n",
      " 0.12877285 0.12958299 0.13032292 0.13104138 0.13175845 0.13248098\n",
      " 0.13321118 0.13395017 0.13469943 0.13546032]\n",
      "11 day output [[0.13623387]]\n",
      "12 day input [0.06196645 0.06603633 0.0672027  0.0588644  0.05653167 0.04873933\n",
      " 0.05419893 0.06035338 0.05742505 0.05390113 0.05350407 0.06000596\n",
      " 0.05534048 0.05948481 0.05898849 0.0588644  0.05496824 0.05330554\n",
      " 0.0524866  0.05442228 0.05065019 0.05648203 0.05650685 0.05859142\n",
      " 0.05955926 0.05702799 0.06010522 0.06787274 0.06578817 0.0670538\n",
      " 0.07112368 0.06782311 0.07238932 0.07655847 0.07586361 0.07514393\n",
      " 0.07439944 0.07854378 0.08239031 0.08395374 0.08472305 0.09139865\n",
      " 0.09651082 0.10283899 0.09953842 0.10417907 0.10266528 0.10549434\n",
      " 0.11420488 0.11254219 0.10735557 0.09757792 0.10675998 0.10489875\n",
      " 0.10837304 0.11274072 0.11380782 0.10829859 0.10385646 0.10549434\n",
      " 0.1060403  0.10519655 0.10976276 0.10874528 0.10901826 0.10673516\n",
      " 0.10661108 0.10539508 0.1060403  0.11355966 0.1140808  0.11909371\n",
      " 0.11678579 0.10728112 0.10812488 0.11182251 0.1155946  0.11537125\n",
      " 0.11224439 0.11020945 0.11283998 0.12405698 0.12085567 0.12254318\n",
      " 0.12537225 0.12698531 0.1246197  0.1246197  0.12779522 0.12877285\n",
      " 0.12958299 0.13032292 0.13104138 0.13175845 0.13248098 0.13321118\n",
      " 0.13395017 0.13469943 0.13546032 0.13623387]\n",
      "12 day output [[0.13702048]]\n",
      "13 day input [0.06603633 0.0672027  0.0588644  0.05653167 0.04873933 0.05419893\n",
      " 0.06035338 0.05742505 0.05390113 0.05350407 0.06000596 0.05534048\n",
      " 0.05948481 0.05898849 0.0588644  0.05496824 0.05330554 0.0524866\n",
      " 0.05442228 0.05065019 0.05648203 0.05650685 0.05859142 0.05955926\n",
      " 0.05702799 0.06010522 0.06787274 0.06578817 0.0670538  0.07112368\n",
      " 0.06782311 0.07238932 0.07655847 0.07586361 0.07514393 0.07439944\n",
      " 0.07854378 0.08239031 0.08395374 0.08472305 0.09139865 0.09651082\n",
      " 0.10283899 0.09953842 0.10417907 0.10266528 0.10549434 0.11420488\n",
      " 0.11254219 0.10735557 0.09757792 0.10675998 0.10489875 0.10837304\n",
      " 0.11274072 0.11380782 0.10829859 0.10385646 0.10549434 0.1060403\n",
      " 0.10519655 0.10976276 0.10874528 0.10901826 0.10673516 0.10661108\n",
      " 0.10539508 0.1060403  0.11355966 0.1140808  0.11909371 0.11678579\n",
      " 0.10728112 0.10812488 0.11182251 0.1155946  0.11537125 0.11224439\n",
      " 0.11020945 0.11283998 0.12405698 0.12085567 0.12254318 0.12537225\n",
      " 0.12698531 0.1246197  0.1246197  0.12779522 0.12877285 0.12958299\n",
      " 0.13032292 0.13104138 0.13175845 0.13248098 0.13321118 0.13395017\n",
      " 0.13469943 0.13546032 0.13623387 0.13702048]\n",
      "13 day output [[0.1378199]]\n",
      "14 day input [0.0672027  0.0588644  0.05653167 0.04873933 0.05419893 0.06035338\n",
      " 0.05742505 0.05390113 0.05350407 0.06000596 0.05534048 0.05948481\n",
      " 0.05898849 0.0588644  0.05496824 0.05330554 0.0524866  0.05442228\n",
      " 0.05065019 0.05648203 0.05650685 0.05859142 0.05955926 0.05702799\n",
      " 0.06010522 0.06787274 0.06578817 0.0670538  0.07112368 0.06782311\n",
      " 0.07238932 0.07655847 0.07586361 0.07514393 0.07439944 0.07854378\n",
      " 0.08239031 0.08395374 0.08472305 0.09139865 0.09651082 0.10283899\n",
      " 0.09953842 0.10417907 0.10266528 0.10549434 0.11420488 0.11254219\n",
      " 0.10735557 0.09757792 0.10675998 0.10489875 0.10837304 0.11274072\n",
      " 0.11380782 0.10829859 0.10385646 0.10549434 0.1060403  0.10519655\n",
      " 0.10976276 0.10874528 0.10901826 0.10673516 0.10661108 0.10539508\n",
      " 0.1060403  0.11355966 0.1140808  0.11909371 0.11678579 0.10728112\n",
      " 0.10812488 0.11182251 0.1155946  0.11537125 0.11224439 0.11020945\n",
      " 0.11283998 0.12405698 0.12085567 0.12254318 0.12537225 0.12698531\n",
      " 0.1246197  0.1246197  0.12779522 0.12877285 0.12958299 0.13032292\n",
      " 0.13104138 0.13175845 0.13248098 0.13321118 0.13395017 0.13469943\n",
      " 0.13546032 0.13623387 0.13702048 0.1378199 ]\n",
      "14 day output [[0.13863118]]\n",
      "15 day input [0.0588644  0.05653167 0.04873933 0.05419893 0.06035338 0.05742505\n",
      " 0.05390113 0.05350407 0.06000596 0.05534048 0.05948481 0.05898849\n",
      " 0.0588644  0.05496824 0.05330554 0.0524866  0.05442228 0.05065019\n",
      " 0.05648203 0.05650685 0.05859142 0.05955926 0.05702799 0.06010522\n",
      " 0.06787274 0.06578817 0.0670538  0.07112368 0.06782311 0.07238932\n",
      " 0.07655847 0.07586361 0.07514393 0.07439944 0.07854378 0.08239031\n",
      " 0.08395374 0.08472305 0.09139865 0.09651082 0.10283899 0.09953842\n",
      " 0.10417907 0.10266528 0.10549434 0.11420488 0.11254219 0.10735557\n",
      " 0.09757792 0.10675998 0.10489875 0.10837304 0.11274072 0.11380782\n",
      " 0.10829859 0.10385646 0.10549434 0.1060403  0.10519655 0.10976276\n",
      " 0.10874528 0.10901826 0.10673516 0.10661108 0.10539508 0.1060403\n",
      " 0.11355966 0.1140808  0.11909371 0.11678579 0.10728112 0.10812488\n",
      " 0.11182251 0.1155946  0.11537125 0.11224439 0.11020945 0.11283998\n",
      " 0.12405698 0.12085567 0.12254318 0.12537225 0.12698531 0.1246197\n",
      " 0.1246197  0.12779522 0.12877285 0.12958299 0.13032292 0.13104138\n",
      " 0.13175845 0.13248098 0.13321118 0.13395017 0.13469943 0.13546032\n",
      " 0.13623387 0.13702048 0.1378199  0.13863118]\n",
      "15 day output [[0.13945274]]\n",
      "16 day input [0.05653167 0.04873933 0.05419893 0.06035338 0.05742505 0.05390113\n",
      " 0.05350407 0.06000596 0.05534048 0.05948481 0.05898849 0.0588644\n",
      " 0.05496824 0.05330554 0.0524866  0.05442228 0.05065019 0.05648203\n",
      " 0.05650685 0.05859142 0.05955926 0.05702799 0.06010522 0.06787274\n",
      " 0.06578817 0.0670538  0.07112368 0.06782311 0.07238932 0.07655847\n",
      " 0.07586361 0.07514393 0.07439944 0.07854378 0.08239031 0.08395374\n",
      " 0.08472305 0.09139865 0.09651082 0.10283899 0.09953842 0.10417907\n",
      " 0.10266528 0.10549434 0.11420488 0.11254219 0.10735557 0.09757792\n",
      " 0.10675998 0.10489875 0.10837304 0.11274072 0.11380782 0.10829859\n",
      " 0.10385646 0.10549434 0.1060403  0.10519655 0.10976276 0.10874528\n",
      " 0.10901826 0.10673516 0.10661108 0.10539508 0.1060403  0.11355966\n",
      " 0.1140808  0.11909371 0.11678579 0.10728112 0.10812488 0.11182251\n",
      " 0.1155946  0.11537125 0.11224439 0.11020945 0.11283998 0.12405698\n",
      " 0.12085567 0.12254318 0.12537225 0.12698531 0.1246197  0.1246197\n",
      " 0.12779522 0.12877285 0.12958299 0.13032292 0.13104138 0.13175845\n",
      " 0.13248098 0.13321118 0.13395017 0.13469943 0.13546032 0.13623387\n"
     ]
    },
    {
     "name": "stdout",
     "output_type": "stream",
     "text": [
      " 0.13702048 0.1378199  0.13863118 0.13945274]\n",
      "16 day output [[0.14028306]]\n",
      "17 day input [0.04873933 0.05419893 0.06035338 0.05742505 0.05390113 0.05350407\n",
      " 0.06000596 0.05534048 0.05948481 0.05898849 0.0588644  0.05496824\n",
      " 0.05330554 0.0524866  0.05442228 0.05065019 0.05648203 0.05650685\n",
      " 0.05859142 0.05955926 0.05702799 0.06010522 0.06787274 0.06578817\n",
      " 0.0670538  0.07112368 0.06782311 0.07238932 0.07655847 0.07586361\n",
      " 0.07514393 0.07439944 0.07854378 0.08239031 0.08395374 0.08472305\n",
      " 0.09139865 0.09651082 0.10283899 0.09953842 0.10417907 0.10266528\n",
      " 0.10549434 0.11420488 0.11254219 0.10735557 0.09757792 0.10675998\n",
      " 0.10489875 0.10837304 0.11274072 0.11380782 0.10829859 0.10385646\n",
      " 0.10549434 0.1060403  0.10519655 0.10976276 0.10874528 0.10901826\n",
      " 0.10673516 0.10661108 0.10539508 0.1060403  0.11355966 0.1140808\n",
      " 0.11909371 0.11678579 0.10728112 0.10812488 0.11182251 0.1155946\n",
      " 0.11537125 0.11224439 0.11020945 0.11283998 0.12405698 0.12085567\n",
      " 0.12254318 0.12537225 0.12698531 0.1246197  0.1246197  0.12779522\n",
      " 0.12877285 0.12958299 0.13032292 0.13104138 0.13175845 0.13248098\n",
      " 0.13321118 0.13395017 0.13469943 0.13546032 0.13623387 0.13702048\n",
      " 0.1378199  0.13863118 0.13945274 0.14028306]\n",
      "17 day output [[0.14112028]]\n",
      "18 day input [0.05419893 0.06035338 0.05742505 0.05390113 0.05350407 0.06000596\n",
      " 0.05534048 0.05948481 0.05898849 0.0588644  0.05496824 0.05330554\n",
      " 0.0524866  0.05442228 0.05065019 0.05648203 0.05650685 0.05859142\n",
      " 0.05955926 0.05702799 0.06010522 0.06787274 0.06578817 0.0670538\n",
      " 0.07112368 0.06782311 0.07238932 0.07655847 0.07586361 0.07514393\n",
      " 0.07439944 0.07854378 0.08239031 0.08395374 0.08472305 0.09139865\n",
      " 0.09651082 0.10283899 0.09953842 0.10417907 0.10266528 0.10549434\n",
      " 0.11420488 0.11254219 0.10735557 0.09757792 0.10675998 0.10489875\n",
      " 0.10837304 0.11274072 0.11380782 0.10829859 0.10385646 0.10549434\n",
      " 0.1060403  0.10519655 0.10976276 0.10874528 0.10901826 0.10673516\n",
      " 0.10661108 0.10539508 0.1060403  0.11355966 0.1140808  0.11909371\n",
      " 0.11678579 0.10728112 0.10812488 0.11182251 0.1155946  0.11537125\n",
      " 0.11224439 0.11020945 0.11283998 0.12405698 0.12085567 0.12254318\n",
      " 0.12537225 0.12698531 0.1246197  0.1246197  0.12779522 0.12877285\n",
      " 0.12958299 0.13032292 0.13104138 0.13175845 0.13248098 0.13321118\n",
      " 0.13395017 0.13469943 0.13546032 0.13623387 0.13702048 0.1378199\n",
      " 0.13863118 0.13945274 0.14028306 0.14112028]\n",
      "18 day output [[0.14196259]]\n",
      "19 day input [0.06035338 0.05742505 0.05390113 0.05350407 0.06000596 0.05534048\n",
      " 0.05948481 0.05898849 0.0588644  0.05496824 0.05330554 0.0524866\n",
      " 0.05442228 0.05065019 0.05648203 0.05650685 0.05859142 0.05955926\n",
      " 0.05702799 0.06010522 0.06787274 0.06578817 0.0670538  0.07112368\n",
      " 0.06782311 0.07238932 0.07655847 0.07586361 0.07514393 0.07439944\n",
      " 0.07854378 0.08239031 0.08395374 0.08472305 0.09139865 0.09651082\n",
      " 0.10283899 0.09953842 0.10417907 0.10266528 0.10549434 0.11420488\n",
      " 0.11254219 0.10735557 0.09757792 0.10675998 0.10489875 0.10837304\n",
      " 0.11274072 0.11380782 0.10829859 0.10385646 0.10549434 0.1060403\n",
      " 0.10519655 0.10976276 0.10874528 0.10901826 0.10673516 0.10661108\n",
      " 0.10539508 0.1060403  0.11355966 0.1140808  0.11909371 0.11678579\n",
      " 0.10728112 0.10812488 0.11182251 0.1155946  0.11537125 0.11224439\n",
      " 0.11020945 0.11283998 0.12405698 0.12085567 0.12254318 0.12537225\n",
      " 0.12698531 0.1246197  0.1246197  0.12779522 0.12877285 0.12958299\n",
      " 0.13032292 0.13104138 0.13175845 0.13248098 0.13321118 0.13395017\n",
      " 0.13469943 0.13546032 0.13623387 0.13702048 0.1378199  0.13863118\n",
      " 0.13945274 0.14028306 0.14112028 0.14196259]\n",
      "19 day output [[0.14280838]]\n",
      "20 day input [0.05742505 0.05390113 0.05350407 0.06000596 0.05534048 0.05948481\n",
      " 0.05898849 0.0588644  0.05496824 0.05330554 0.0524866  0.05442228\n",
      " 0.05065019 0.05648203 0.05650685 0.05859142 0.05955926 0.05702799\n",
      " 0.06010522 0.06787274 0.06578817 0.0670538  0.07112368 0.06782311\n",
      " 0.07238932 0.07655847 0.07586361 0.07514393 0.07439944 0.07854378\n",
      " 0.08239031 0.08395374 0.08472305 0.09139865 0.09651082 0.10283899\n",
      " 0.09953842 0.10417907 0.10266528 0.10549434 0.11420488 0.11254219\n",
      " 0.10735557 0.09757792 0.10675998 0.10489875 0.10837304 0.11274072\n",
      " 0.11380782 0.10829859 0.10385646 0.10549434 0.1060403  0.10519655\n",
      " 0.10976276 0.10874528 0.10901826 0.10673516 0.10661108 0.10539508\n",
      " 0.1060403  0.11355966 0.1140808  0.11909371 0.11678579 0.10728112\n",
      " 0.10812488 0.11182251 0.1155946  0.11537125 0.11224439 0.11020945\n",
      " 0.11283998 0.12405698 0.12085567 0.12254318 0.12537225 0.12698531\n",
      " 0.1246197  0.1246197  0.12779522 0.12877285 0.12958299 0.13032292\n",
      " 0.13104138 0.13175845 0.13248098 0.13321118 0.13395017 0.13469943\n",
      " 0.13546032 0.13623387 0.13702048 0.1378199  0.13863118 0.13945274\n",
      " 0.14028306 0.14112028 0.14196259 0.14280838]\n",
      "20 day output [[0.14365627]]\n",
      "21 day input [0.05390113 0.05350407 0.06000596 0.05534048 0.05948481 0.05898849\n",
      " 0.0588644  0.05496824 0.05330554 0.0524866  0.05442228 0.05065019\n",
      " 0.05648203 0.05650685 0.05859142 0.05955926 0.05702799 0.06010522\n",
      " 0.06787274 0.06578817 0.0670538  0.07112368 0.06782311 0.07238932\n",
      " 0.07655847 0.07586361 0.07514393 0.07439944 0.07854378 0.08239031\n",
      " 0.08395374 0.08472305 0.09139865 0.09651082 0.10283899 0.09953842\n",
      " 0.10417907 0.10266528 0.10549434 0.11420488 0.11254219 0.10735557\n",
      " 0.09757792 0.10675998 0.10489875 0.10837304 0.11274072 0.11380782\n",
      " 0.10829859 0.10385646 0.10549434 0.1060403  0.10519655 0.10976276\n",
      " 0.10874528 0.10901826 0.10673516 0.10661108 0.10539508 0.1060403\n",
      " 0.11355966 0.1140808  0.11909371 0.11678579 0.10728112 0.10812488\n",
      " 0.11182251 0.1155946  0.11537125 0.11224439 0.11020945 0.11283998\n",
      " 0.12405698 0.12085567 0.12254318 0.12537225 0.12698531 0.1246197\n",
      " 0.1246197  0.12779522 0.12877285 0.12958299 0.13032292 0.13104138\n",
      " 0.13175845 0.13248098 0.13321118 0.13395017 0.13469943 0.13546032\n",
      " 0.13623387 0.13702048 0.1378199  0.13863118 0.13945274 0.14028306\n",
      " 0.14112028 0.14196259 0.14280838 0.14365627]\n",
      "21 day output [[0.14450514]]\n",
      "22 day input [0.05350407 0.06000596 0.05534048 0.05948481 0.05898849 0.0588644\n",
      " 0.05496824 0.05330554 0.0524866  0.05442228 0.05065019 0.05648203\n",
      " 0.05650685 0.05859142 0.05955926 0.05702799 0.06010522 0.06787274\n",
      " 0.06578817 0.0670538  0.07112368 0.06782311 0.07238932 0.07655847\n",
      " 0.07586361 0.07514393 0.07439944 0.07854378 0.08239031 0.08395374\n",
      " 0.08472305 0.09139865 0.09651082 0.10283899 0.09953842 0.10417907\n",
      " 0.10266528 0.10549434 0.11420488 0.11254219 0.10735557 0.09757792\n",
      " 0.10675998 0.10489875 0.10837304 0.11274072 0.11380782 0.10829859\n",
      " 0.10385646 0.10549434 0.1060403  0.10519655 0.10976276 0.10874528\n",
      " 0.10901826 0.10673516 0.10661108 0.10539508 0.1060403  0.11355966\n",
      " 0.1140808  0.11909371 0.11678579 0.10728112 0.10812488 0.11182251\n",
      " 0.1155946  0.11537125 0.11224439 0.11020945 0.11283998 0.12405698\n",
      " 0.12085567 0.12254318 0.12537225 0.12698531 0.1246197  0.1246197\n",
      " 0.12779522 0.12877285 0.12958299 0.13032292 0.13104138 0.13175845\n",
      " 0.13248098 0.13321118 0.13395017 0.13469943 0.13546032 0.13623387\n",
      " 0.13702048 0.1378199  0.13863118 0.13945274 0.14028306 0.14112028\n",
      " 0.14196259 0.14280838 0.14365627 0.14450514]\n",
      "22 day output [[0.14535408]]\n",
      "23 day input [0.06000596 0.05534048 0.05948481 0.05898849 0.0588644  0.05496824\n",
      " 0.05330554 0.0524866  0.05442228 0.05065019 0.05648203 0.05650685\n",
      " 0.05859142 0.05955926 0.05702799 0.06010522 0.06787274 0.06578817\n",
      " 0.0670538  0.07112368 0.06782311 0.07238932 0.07655847 0.07586361\n",
      " 0.07514393 0.07439944 0.07854378 0.08239031 0.08395374 0.08472305\n",
      " 0.09139865 0.09651082 0.10283899 0.09953842 0.10417907 0.10266528\n",
      " 0.10549434 0.11420488 0.11254219 0.10735557 0.09757792 0.10675998\n",
      " 0.10489875 0.10837304 0.11274072 0.11380782 0.10829859 0.10385646\n",
      " 0.10549434 0.1060403  0.10519655 0.10976276 0.10874528 0.10901826\n",
      " 0.10673516 0.10661108 0.10539508 0.1060403  0.11355966 0.1140808\n",
      " 0.11909371 0.11678579 0.10728112 0.10812488 0.11182251 0.1155946\n",
      " 0.11537125 0.11224439 0.11020945 0.11283998 0.12405698 0.12085567\n",
      " 0.12254318 0.12537225 0.12698531 0.1246197  0.1246197  0.12779522\n",
      " 0.12877285 0.12958299 0.13032292 0.13104138 0.13175845 0.13248098\n",
      " 0.13321118 0.13395017 0.13469943 0.13546032 0.13623387 0.13702048\n",
      " 0.1378199  0.13863118 0.13945274 0.14028306 0.14112028 0.14196259\n",
      " 0.14280838 0.14365627 0.14450514 0.14535408]\n",
      "23 day output [[0.14620249]]\n",
      "24 day input [0.05534048 0.05948481 0.05898849 0.0588644  0.05496824 0.05330554\n",
      " 0.0524866  0.05442228 0.05065019 0.05648203 0.05650685 0.05859142\n",
      " 0.05955926 0.05702799 0.06010522 0.06787274 0.06578817 0.0670538\n",
      " 0.07112368 0.06782311 0.07238932 0.07655847 0.07586361 0.07514393\n",
      " 0.07439944 0.07854378 0.08239031 0.08395374 0.08472305 0.09139865\n",
      " 0.09651082 0.10283899 0.09953842 0.10417907 0.10266528 0.10549434\n",
      " 0.11420488 0.11254219 0.10735557 0.09757792 0.10675998 0.10489875\n",
      " 0.10837304 0.11274072 0.11380782 0.10829859 0.10385646 0.10549434\n",
      " 0.1060403  0.10519655 0.10976276 0.10874528 0.10901826 0.10673516\n",
      " 0.10661108 0.10539508 0.1060403  0.11355966 0.1140808  0.11909371\n",
      " 0.11678579 0.10728112 0.10812488 0.11182251 0.1155946  0.11537125\n",
      " 0.11224439 0.11020945 0.11283998 0.12405698 0.12085567 0.12254318\n",
      " 0.12537225 0.12698531 0.1246197  0.1246197  0.12779522 0.12877285\n",
      " 0.12958299 0.13032292 0.13104138 0.13175845 0.13248098 0.13321118\n",
      " 0.13395017 0.13469943 0.13546032 0.13623387 0.13702048 0.1378199\n",
      " 0.13863118 0.13945274 0.14028306 0.14112028 0.14196259 0.14280838\n",
      " 0.14365627 0.14450514 0.14535408 0.14620249]\n",
      "24 day output [[0.1470501]]\n",
      "25 day input [0.05948481 0.05898849 0.0588644  0.05496824 0.05330554 0.0524866\n",
      " 0.05442228 0.05065019 0.05648203 0.05650685 0.05859142 0.05955926\n",
      " 0.05702799 0.06010522 0.06787274 0.06578817 0.0670538  0.07112368\n",
      " 0.06782311 0.07238932 0.07655847 0.07586361 0.07514393 0.07439944\n",
      " 0.07854378 0.08239031 0.08395374 0.08472305 0.09139865 0.09651082\n",
      " 0.10283899 0.09953842 0.10417907 0.10266528 0.10549434 0.11420488\n",
      " 0.11254219 0.10735557 0.09757792 0.10675998 0.10489875 0.10837304\n",
      " 0.11274072 0.11380782 0.10829859 0.10385646 0.10549434 0.1060403\n",
      " 0.10519655 0.10976276 0.10874528 0.10901826 0.10673516 0.10661108\n",
      " 0.10539508 0.1060403  0.11355966 0.1140808  0.11909371 0.11678579\n",
      " 0.10728112 0.10812488 0.11182251 0.1155946  0.11537125 0.11224439\n",
      " 0.11020945 0.11283998 0.12405698 0.12085567 0.12254318 0.12537225\n",
      " 0.12698531 0.1246197  0.1246197  0.12779522 0.12877285 0.12958299\n",
      " 0.13032292 0.13104138 0.13175845 0.13248098 0.13321118 0.13395017\n",
      " 0.13469943 0.13546032 0.13623387 0.13702048 0.1378199  0.13863118\n",
      " 0.13945274 0.14028306 0.14112028 0.14196259 0.14280838 0.14365627\n",
      " 0.14450514 0.14535408 0.14620249 0.1470501 ]\n"
     ]
    },
    {
     "name": "stdout",
     "output_type": "stream",
     "text": [
      "25 day output [[0.14789668]]\n",
      "26 day input [0.05898849 0.0588644  0.05496824 0.05330554 0.0524866  0.05442228\n",
      " 0.05065019 0.05648203 0.05650685 0.05859142 0.05955926 0.05702799\n",
      " 0.06010522 0.06787274 0.06578817 0.0670538  0.07112368 0.06782311\n",
      " 0.07238932 0.07655847 0.07586361 0.07514393 0.07439944 0.07854378\n",
      " 0.08239031 0.08395374 0.08472305 0.09139865 0.09651082 0.10283899\n",
      " 0.09953842 0.10417907 0.10266528 0.10549434 0.11420488 0.11254219\n",
      " 0.10735557 0.09757792 0.10675998 0.10489875 0.10837304 0.11274072\n",
      " 0.11380782 0.10829859 0.10385646 0.10549434 0.1060403  0.10519655\n",
      " 0.10976276 0.10874528 0.10901826 0.10673516 0.10661108 0.10539508\n",
      " 0.1060403  0.11355966 0.1140808  0.11909371 0.11678579 0.10728112\n",
      " 0.10812488 0.11182251 0.1155946  0.11537125 0.11224439 0.11020945\n",
      " 0.11283998 0.12405698 0.12085567 0.12254318 0.12537225 0.12698531\n",
      " 0.1246197  0.1246197  0.12779522 0.12877285 0.12958299 0.13032292\n",
      " 0.13104138 0.13175845 0.13248098 0.13321118 0.13395017 0.13469943\n",
      " 0.13546032 0.13623387 0.13702048 0.1378199  0.13863118 0.13945274\n",
      " 0.14028306 0.14112028 0.14196259 0.14280838 0.14365627 0.14450514\n",
      " 0.14535408 0.14620249 0.1470501  0.14789668]\n",
      "26 day output [[0.14874229]]\n",
      "27 day input [0.0588644  0.05496824 0.05330554 0.0524866  0.05442228 0.05065019\n",
      " 0.05648203 0.05650685 0.05859142 0.05955926 0.05702799 0.06010522\n",
      " 0.06787274 0.06578817 0.0670538  0.07112368 0.06782311 0.07238932\n",
      " 0.07655847 0.07586361 0.07514393 0.07439944 0.07854378 0.08239031\n",
      " 0.08395374 0.08472305 0.09139865 0.09651082 0.10283899 0.09953842\n",
      " 0.10417907 0.10266528 0.10549434 0.11420488 0.11254219 0.10735557\n",
      " 0.09757792 0.10675998 0.10489875 0.10837304 0.11274072 0.11380782\n",
      " 0.10829859 0.10385646 0.10549434 0.1060403  0.10519655 0.10976276\n",
      " 0.10874528 0.10901826 0.10673516 0.10661108 0.10539508 0.1060403\n",
      " 0.11355966 0.1140808  0.11909371 0.11678579 0.10728112 0.10812488\n",
      " 0.11182251 0.1155946  0.11537125 0.11224439 0.11020945 0.11283998\n",
      " 0.12405698 0.12085567 0.12254318 0.12537225 0.12698531 0.1246197\n",
      " 0.1246197  0.12779522 0.12877285 0.12958299 0.13032292 0.13104138\n",
      " 0.13175845 0.13248098 0.13321118 0.13395017 0.13469943 0.13546032\n",
      " 0.13623387 0.13702048 0.1378199  0.13863118 0.13945274 0.14028306\n",
      " 0.14112028 0.14196259 0.14280838 0.14365627 0.14450514 0.14535408\n",
      " 0.14620249 0.1470501  0.14789668 0.14874229]\n",
      "27 day output [[0.14958718]]\n",
      "28 day input [0.05496824 0.05330554 0.0524866  0.05442228 0.05065019 0.05648203\n",
      " 0.05650685 0.05859142 0.05955926 0.05702799 0.06010522 0.06787274\n",
      " 0.06578817 0.0670538  0.07112368 0.06782311 0.07238932 0.07655847\n",
      " 0.07586361 0.07514393 0.07439944 0.07854378 0.08239031 0.08395374\n",
      " 0.08472305 0.09139865 0.09651082 0.10283899 0.09953842 0.10417907\n",
      " 0.10266528 0.10549434 0.11420488 0.11254219 0.10735557 0.09757792\n",
      " 0.10675998 0.10489875 0.10837304 0.11274072 0.11380782 0.10829859\n",
      " 0.10385646 0.10549434 0.1060403  0.10519655 0.10976276 0.10874528\n",
      " 0.10901826 0.10673516 0.10661108 0.10539508 0.1060403  0.11355966\n",
      " 0.1140808  0.11909371 0.11678579 0.10728112 0.10812488 0.11182251\n",
      " 0.1155946  0.11537125 0.11224439 0.11020945 0.11283998 0.12405698\n",
      " 0.12085567 0.12254318 0.12537225 0.12698531 0.1246197  0.1246197\n",
      " 0.12779522 0.12877285 0.12958299 0.13032292 0.13104138 0.13175845\n",
      " 0.13248098 0.13321118 0.13395017 0.13469943 0.13546032 0.13623387\n",
      " 0.13702048 0.1378199  0.13863118 0.13945274 0.14028306 0.14112028\n",
      " 0.14196259 0.14280838 0.14365627 0.14450514 0.14535408 0.14620249\n",
      " 0.1470501  0.14789668 0.14874229 0.14958718]\n",
      "28 day output [[0.1504316]]\n",
      "29 day input [0.05330554 0.0524866  0.05442228 0.05065019 0.05648203 0.05650685\n",
      " 0.05859142 0.05955926 0.05702799 0.06010522 0.06787274 0.06578817\n",
      " 0.0670538  0.07112368 0.06782311 0.07238932 0.07655847 0.07586361\n",
      " 0.07514393 0.07439944 0.07854378 0.08239031 0.08395374 0.08472305\n",
      " 0.09139865 0.09651082 0.10283899 0.09953842 0.10417907 0.10266528\n",
      " 0.10549434 0.11420488 0.11254219 0.10735557 0.09757792 0.10675998\n",
      " 0.10489875 0.10837304 0.11274072 0.11380782 0.10829859 0.10385646\n",
      " 0.10549434 0.1060403  0.10519655 0.10976276 0.10874528 0.10901826\n",
      " 0.10673516 0.10661108 0.10539508 0.1060403  0.11355966 0.1140808\n",
      " 0.11909371 0.11678579 0.10728112 0.10812488 0.11182251 0.1155946\n",
      " 0.11537125 0.11224439 0.11020945 0.11283998 0.12405698 0.12085567\n",
      " 0.12254318 0.12537225 0.12698531 0.1246197  0.1246197  0.12779522\n",
      " 0.12877285 0.12958299 0.13032292 0.13104138 0.13175845 0.13248098\n",
      " 0.13321118 0.13395017 0.13469943 0.13546032 0.13623387 0.13702048\n",
      " 0.1378199  0.13863118 0.13945274 0.14028306 0.14112028 0.14196259\n",
      " 0.14280838 0.14365627 0.14450514 0.14535408 0.14620249 0.1470501\n",
      " 0.14789668 0.14874229 0.14958718 0.1504316 ]\n",
      "29 day output [[0.15127587]]\n",
      "[[0.12779521942138672], [0.12877285480499268], [0.1295829862356186], [0.1303229182958603], [0.13104137778282166], [0.131758451461792], [0.13248097896575928], [0.1332111805677414], [0.13395017385482788], [0.13469943404197693], [0.13546031713485718], [0.1362338662147522], [0.13702048361301422], [0.13781990110874176], [0.1386311799287796], [0.1394527405500412], [0.14028306305408478], [0.1411202847957611], [0.14196258783340454], [0.14280837774276733], [0.14365626871585846], [0.14450514316558838], [0.14535407721996307], [0.14620248973369598], [0.14705009758472443], [0.1478966772556305], [0.14874228835105896], [0.14958718419075012], [0.15043160319328308], [0.1512758731842041]]\n"
     ]
    }
   ],
   "source": [
    "from numpy import array\n",
    "\n",
    "lst_output=[]\n",
    "n_steps=100\n",
    "i=0\n",
    "while(i<30):\n",
    "    \n",
    "    if(len(temp_input)>100):\n",
    "        #print(temp_input)\n",
    "        x_input=np.array(temp_input[1:])\n",
    "        print(\"{} day input {}\".format(i,x_input))\n",
    "        x_input=x_input.reshape(1,-1)\n",
    "        x_input = x_input.reshape((1, n_steps, 1))\n",
    "        #print(x_input)\n",
    "        yhat = model.predict(x_input, verbose=0)\n",
    "        print(\"{} day output {}\".format(i,yhat))\n",
    "        temp_input.extend(yhat[0].tolist())\n",
    "        temp_input=temp_input[1:]\n",
    "        #print(temp_input)\n",
    "        lst_output.extend(yhat.tolist())\n",
    "        i=i+1\n",
    "    else:\n",
    "        x_input = x_input.reshape((1, n_steps,1))\n",
    "        yhat = model.predict(x_input, verbose=0)\n",
    "        print(yhat[0])\n",
    "        temp_input.extend(yhat[0].tolist())\n",
    "        print(len(temp_input))\n",
    "        lst_output.extend(yhat.tolist())\n",
    "        i=i+1\n",
    "    \n",
    "\n",
    "print(lst_output)"
   ]
  },
  {
   "cell_type": "code",
   "execution_count": 51,
   "id": "ec902618",
   "metadata": {},
   "outputs": [],
   "source": [
    "day_new=np.arange(1,101)\n",
    "day_pred=np.arange(101,131)"
   ]
  },
  {
   "cell_type": "code",
   "execution_count": 54,
   "id": "dfeebd59",
   "metadata": {},
   "outputs": [
    {
     "data": {
      "text/plain": [
       "[<matplotlib.lines.Line2D at 0x225b82a8850>]"
      ]
     },
     "execution_count": 54,
     "metadata": {},
     "output_type": "execute_result"
    },
    {
     "data": {
      "image/png": "[encoded data removed]",
      "text/plain": [
       "<Figure size 432x288 with 1 Axes>"
      ]
     },
     "metadata": {
      "needs_background": "light"
     },
     "output_type": "display_data"
    }
   ],
   "source": [
    "df1=new_df.tolist()\n",
    "df1.extend(lst_output)\n",
    "plt.plot(df1[1200:])"
   ]
  },
  {
   "cell_type": "code",
   "execution_count": 56,
   "id": "0985996d",
   "metadata": {},
   "outputs": [],
   "source": [
    "df1=scale.inverse_transform(df1).tolist()"
   ]
  },
  {
   "cell_type": "code",
   "execution_count": 57,
   "id": "0040025d",
   "metadata": {},
   "outputs": [
    {
     "data": {
      "text/plain": [
       "[<matplotlib.lines.Line2D at 0x225b82b2160>]"
      ]
     },
     "execution_count": 57,
     "metadata": {},
     "output_type": "execute_result"
    },
    {
     "data": {
      "image/png": "[encoded data removed]",
      "text/plain": [
       "<Figure size 432x288 with 1 Axes>"
      ]
     },
     "metadata": {
      "needs_background": "light"
     },
     "output_type": "display_data"
    }
   ],
   "source": [
    "plt.plot(df1)"
   ]
  },
  {
   "cell_type": "code",
   "execution_count": null,
   "id": "3c220050",
   "metadata": {},
   "outputs": [],
   "source": []
  }
 ],
 "metadata": {
  "kernelspec": {
   "display_name": "Python 3",
   "language": "python",
   "name": "python3"
  },
  "language_info": {
   "codemirror_mode": {
    "name": "ipython",
    "version": 3
   },
   "file_extension": ".py",
   "mimetype": "text/x-python",
   "name": "python",
   "nbconvert_exporter": "python",
   "pygments_lexer": "ipython3",
   "version": "3.8.10"
  }
 },
 "nbformat": 4,
 "nbformat_minor": 5
}
